import pandas as pd
import numpy as np
import seaborn as sns
import matplotlib.pyplot as plt
%matplotlib inline

df=pd.read_csv('diabetes.csv')
df.head()

df.describe()# describe

df.info()#information of data

df.isnull().values.any()# return true if the dataset contains null values

df.hist(bins=20,figsize=(20,20))#bins : number of histograms to be used # figsize : length and breadth of histogram
plt.show()